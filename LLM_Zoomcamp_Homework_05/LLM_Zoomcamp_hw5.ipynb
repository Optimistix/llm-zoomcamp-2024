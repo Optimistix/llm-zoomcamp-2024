{
 "cells": [
  {
   "cell_type": "markdown",
   "id": "0e3d79ea-456a-468b-ac84-5390296b6b22",
   "metadata": {},
   "source": [
    "# Q1. Running Mage\n",
    "\n",
    "What's the version of mage?"
   ]
  },
  {
   "cell_type": "markdown",
   "id": "b2949a4d-e164-43bf-9a07-3c101549c3c9",
   "metadata": {},
   "source": [
    "### 0.9.72"
   ]
  },
  {
   "cell_type": "markdown",
   "id": "536ab5db-5777-4ee8-a9d8-b51cb926ed51",
   "metadata": {},
   "source": [
    "# Q2. Number of documents \n",
    "\n",
    "How many FAQ documents we processed?\n",
    "\n",
    "- 1\n",
    "- 2\n",
    "- 3\n",
    "- 4"
   ]
  },
  {
   "cell_type": "markdown",
   "id": "ff1e215b-6044-49fb-b147-df680d14f3ee",
   "metadata": {
    "jp-MarkdownHeadingCollapsed": true
   },
   "source": [
    "### 1"
   ]
  },
  {
   "cell_type": "markdown",
   "id": "7540abe2-5fa7-41db-aca4-a399db902d51",
   "metadata": {},
   "source": [
    "# Q3. Chunking\n",
    "\n",
    "How many documents (chunks) do we have in the output?\n",
    "\n",
    "- 66\n",
    "- 76\n",
    "- 86\n",
    "- 96"
   ]
  },
  {
   "cell_type": "markdown",
   "id": "253d0872-13d2-420b-865e-5a8164d36774",
   "metadata": {},
   "source": [
    "# Q4. Export\n",
    "\n",
    "What's the last document id?\n",
    "\n",
    "Also note the index name."
   ]
  },
  {
   "cell_type": "markdown",
   "id": "36c9a463-b06e-4c81-9f1c-f48cba8e920e",
   "metadata": {},
   "source": [
    "# Q5. Testing the retrieval\n",
    "\n",
    "Now let's test the retrieval. Use mage or jupyter notebook to test it.\n",
    "\n",
    "Let's use the following query: \"When is the next cohort?\"\n",
    "\n",
    "What's the ID of the top matching result?"
   ]
  },
  {
   "cell_type": "markdown",
   "id": "0dc583cc-5c39-4bb5-a26e-fbedffb0c2d0",
   "metadata": {},
   "source": [
    "# Q6. Reindexing\n",
    "\n",
    "Let's re-execute the entire pipeline with the updated data.\n",
    "\n",
    "For the same query \"When is the next cohort?\". What's the ID of the top matching result?"
   ]
  },
  {
   "cell_type": "code",
   "execution_count": null,
   "id": "107b5200-d9bd-4795-96e9-e7c16fa2f220",
   "metadata": {},
   "outputs": [],
   "source": []
  }
 ],
 "metadata": {
  "kernelspec": {
   "display_name": "Python 3 (ipykernel)",
   "language": "python",
   "name": "python3"
  },
  "language_info": {
   "codemirror_mode": {
    "name": "ipython",
    "version": 3
   },
   "file_extension": ".py",
   "mimetype": "text/x-python",
   "name": "python",
   "nbconvert_exporter": "python",
   "pygments_lexer": "ipython3",
   "version": "3.11.5"
  }
 },
 "nbformat": 4,
 "nbformat_minor": 5
}
