{
 "cells": [
  {
   "cell_type": "code",
   "execution_count": 1,
   "id": "f34b0379-4432-43bb-9a60-ecb9df45f263",
   "metadata": {},
   "outputs": [
    {
     "name": "stderr",
     "output_type": "stream",
     "text": [
      "/Users/optimistix/anaconda3/envs/llm_zoomcamp/lib/python3.10/site-packages/sentence_transformers/cross_encoder/CrossEncoder.py:11: TqdmExperimentalWarning: Using `tqdm.autonotebook.tqdm` in notebook mode. Use `tqdm.tqdm` instead to force console mode (e.g. in jupyter console)\n",
      "  from tqdm.autonotebook import tqdm, trange\n"
     ]
    }
   ],
   "source": [
    "import pandas as pd\n",
    "import numpy as np\n",
    "from tqdm import tqdm\n",
    "import requests \n",
    "from sentence_transformers import SentenceTransformer"
   ]
  },
  {
   "cell_type": "markdown",
   "id": "6b561053-97e2-4ca7-8cd8-1e661dc24dce",
   "metadata": {},
   "source": [
    "# Getting the data\n",
    "Let's start by getting the dataset. We will use the data we generated in the module.\n",
    "\n",
    "In particular, we'll evaluate the quality of our RAG system with gpt-4o-mini\n",
    "\n",
    "Read it:"
   ]
  },
  {
   "cell_type": "code",
   "execution_count": 2,
   "id": "c0ec0c39-3050-4dbc-a274-9dccf11474f4",
   "metadata": {},
   "outputs": [],
   "source": [
    "github_url = 'https://github.com/DataTalksClub/llm-zoomcamp/blob/main/04-monitoring/data/results-gpt4o-mini.csv'\n",
    "url = f'{github_url}?raw=1'\n",
    "df = pd.read_csv(url)"
   ]
  },
  {
   "cell_type": "markdown",
   "id": "b21ed064-406b-45c1-b76e-efae73265329",
   "metadata": {},
   "source": [
    "We will use only the first 300 documents:"
   ]
  },
  {
   "cell_type": "code",
   "execution_count": 3,
   "id": "dea223e6-e4f6-4d88-8558-1770586735a3",
   "metadata": {},
   "outputs": [
    {
     "data": {
      "text/html": [
       "<div>\n",
       "<style scoped>\n",
       "    .dataframe tbody tr th:only-of-type {\n",
       "        vertical-align: middle;\n",
       "    }\n",
       "\n",
       "    .dataframe tbody tr th {\n",
       "        vertical-align: top;\n",
       "    }\n",
       "\n",
       "    .dataframe thead th {\n",
       "        text-align: right;\n",
       "    }\n",
       "</style>\n",
       "<table border=\"1\" class=\"dataframe\">\n",
       "  <thead>\n",
       "    <tr style=\"text-align: right;\">\n",
       "      <th></th>\n",
       "      <th>answer_llm</th>\n",
       "      <th>answer_orig</th>\n",
       "      <th>document</th>\n",
       "      <th>question</th>\n",
       "      <th>course</th>\n",
       "    </tr>\n",
       "  </thead>\n",
       "  <tbody>\n",
       "    <tr>\n",
       "      <th>0</th>\n",
       "      <td>You can sign up for the course by visiting the...</td>\n",
       "      <td>Machine Learning Zoomcamp FAQ\\nThe purpose of ...</td>\n",
       "      <td>0227b872</td>\n",
       "      <td>Where can I sign up for the course?</td>\n",
       "      <td>machine-learning-zoomcamp</td>\n",
       "    </tr>\n",
       "    <tr>\n",
       "      <th>1</th>\n",
       "      <td>You can sign up using the link provided in the...</td>\n",
       "      <td>Machine Learning Zoomcamp FAQ\\nThe purpose of ...</td>\n",
       "      <td>0227b872</td>\n",
       "      <td>Can you provide a link to sign up?</td>\n",
       "      <td>machine-learning-zoomcamp</td>\n",
       "    </tr>\n",
       "    <tr>\n",
       "      <th>2</th>\n",
       "      <td>Yes, there is an FAQ for the Machine Learning ...</td>\n",
       "      <td>Machine Learning Zoomcamp FAQ\\nThe purpose of ...</td>\n",
       "      <td>0227b872</td>\n",
       "      <td>Is there an FAQ for this Machine Learning course?</td>\n",
       "      <td>machine-learning-zoomcamp</td>\n",
       "    </tr>\n",
       "    <tr>\n",
       "      <th>3</th>\n",
       "      <td>The context does not provide any specific info...</td>\n",
       "      <td>Machine Learning Zoomcamp FAQ\\nThe purpose of ...</td>\n",
       "      <td>0227b872</td>\n",
       "      <td>Does this course have a GitHub repository for ...</td>\n",
       "      <td>machine-learning-zoomcamp</td>\n",
       "    </tr>\n",
       "    <tr>\n",
       "      <th>4</th>\n",
       "      <td>To structure your questions and answers for th...</td>\n",
       "      <td>Machine Learning Zoomcamp FAQ\\nThe purpose of ...</td>\n",
       "      <td>0227b872</td>\n",
       "      <td>How can I structure my questions and answers f...</td>\n",
       "      <td>machine-learning-zoomcamp</td>\n",
       "    </tr>\n",
       "  </tbody>\n",
       "</table>\n",
       "</div>"
      ],
      "text/plain": [
       "                                          answer_llm  \\\n",
       "0  You can sign up for the course by visiting the...   \n",
       "1  You can sign up using the link provided in the...   \n",
       "2  Yes, there is an FAQ for the Machine Learning ...   \n",
       "3  The context does not provide any specific info...   \n",
       "4  To structure your questions and answers for th...   \n",
       "\n",
       "                                         answer_orig  document  \\\n",
       "0  Machine Learning Zoomcamp FAQ\\nThe purpose of ...  0227b872   \n",
       "1  Machine Learning Zoomcamp FAQ\\nThe purpose of ...  0227b872   \n",
       "2  Machine Learning Zoomcamp FAQ\\nThe purpose of ...  0227b872   \n",
       "3  Machine Learning Zoomcamp FAQ\\nThe purpose of ...  0227b872   \n",
       "4  Machine Learning Zoomcamp FAQ\\nThe purpose of ...  0227b872   \n",
       "\n",
       "                                            question  \\\n",
       "0                Where can I sign up for the course?   \n",
       "1                 Can you provide a link to sign up?   \n",
       "2  Is there an FAQ for this Machine Learning course?   \n",
       "3  Does this course have a GitHub repository for ...   \n",
       "4  How can I structure my questions and answers f...   \n",
       "\n",
       "                      course  \n",
       "0  machine-learning-zoomcamp  \n",
       "1  machine-learning-zoomcamp  \n",
       "2  machine-learning-zoomcamp  \n",
       "3  machine-learning-zoomcamp  \n",
       "4  machine-learning-zoomcamp  "
      ]
     },
     "execution_count": 3,
     "metadata": {},
     "output_type": "execute_result"
    }
   ],
   "source": [
    "df = df.iloc[:300]\n",
    "df.head()"
   ]
  },
  {
   "cell_type": "markdown",
   "id": "558daca1-50de-45d9-a4d8-a8b1f229409a",
   "metadata": {},
   "source": [
    "# Q1. Getting the embeddings model\n",
    "Now, get the embeddings model multi-qa-mpnet-base-dot-v1 from the Sentence Transformer library\n",
    "\n",
    "Note: this is not the same model as in HW3"
   ]
  },
  {
   "cell_type": "code",
   "execution_count": 5,
   "id": "0fa52ee1-d599-4d26-920f-0eef4c5c63ab",
   "metadata": {},
   "outputs": [
    {
     "data": {
      "application/vnd.jupyter.widget-view+json": {
       "model_id": "976a1b23075a4793895c3ae40cc12bdb",
       "version_major": 2,
       "version_minor": 0
      },
      "text/plain": [
       "modules.json:   0%|          | 0.00/229 [00:00<?, ?B/s]"
      ]
     },
     "metadata": {},
     "output_type": "display_data"
    },
    {
     "data": {
      "application/vnd.jupyter.widget-view+json": {
       "model_id": "e2fce6ccc6e447f79076fa957119d41c",
       "version_major": 2,
       "version_minor": 0
      },
      "text/plain": [
       "config_sentence_transformers.json:   0%|          | 0.00/212 [00:00<?, ?B/s]"
      ]
     },
     "metadata": {},
     "output_type": "display_data"
    },
    {
     "data": {
      "application/vnd.jupyter.widget-view+json": {
       "model_id": "b3a91a815fbb4590a893e277675fa570",
       "version_major": 2,
       "version_minor": 0
      },
      "text/plain": [
       "README.md:   0%|          | 0.00/8.71k [00:00<?, ?B/s]"
      ]
     },
     "metadata": {},
     "output_type": "display_data"
    },
    {
     "data": {
      "application/vnd.jupyter.widget-view+json": {
       "model_id": "2fa3a11ddfd945cfaace454e10676105",
       "version_major": 2,
       "version_minor": 0
      },
      "text/plain": [
       "sentence_bert_config.json:   0%|          | 0.00/53.0 [00:00<?, ?B/s]"
      ]
     },
     "metadata": {},
     "output_type": "display_data"
    },
    {
     "name": "stderr",
     "output_type": "stream",
     "text": [
      "/Users/optimistix/anaconda3/envs/llm_zoomcamp/lib/python3.10/site-packages/huggingface_hub/file_download.py:1132: FutureWarning: `resume_download` is deprecated and will be removed in version 1.0.0. Downloads always resume when possible. If you want to force a new download, use `force_download=True`.\n",
      "  warnings.warn(\n"
     ]
    },
    {
     "data": {
      "application/vnd.jupyter.widget-view+json": {
       "model_id": "98042f5b3f5540ed812f9cc2273d8302",
       "version_major": 2,
       "version_minor": 0
      },
      "text/plain": [
       "config.json:   0%|          | 0.00/571 [00:00<?, ?B/s]"
      ]
     },
     "metadata": {},
     "output_type": "display_data"
    },
    {
     "data": {
      "application/vnd.jupyter.widget-view+json": {
       "model_id": "3fe433093bc84523ab22ea029cf8f2b7",
       "version_major": 2,
       "version_minor": 0
      },
      "text/plain": [
       "model.safetensors:   0%|          | 0.00/438M [00:00<?, ?B/s]"
      ]
     },
     "metadata": {},
     "output_type": "display_data"
    },
    {
     "data": {
      "application/vnd.jupyter.widget-view+json": {
       "model_id": "3296ea728b9f457f883e2d37439c2dd8",
       "version_major": 2,
       "version_minor": 0
      },
      "text/plain": [
       "tokenizer_config.json:   0%|          | 0.00/363 [00:00<?, ?B/s]"
      ]
     },
     "metadata": {},
     "output_type": "display_data"
    },
    {
     "data": {
      "application/vnd.jupyter.widget-view+json": {
       "model_id": "e90d86ff3aef4d3e848d6152f6d6df38",
       "version_major": 2,
       "version_minor": 0
      },
      "text/plain": [
       "vocab.txt:   0%|          | 0.00/232k [00:00<?, ?B/s]"
      ]
     },
     "metadata": {},
     "output_type": "display_data"
    },
    {
     "data": {
      "application/vnd.jupyter.widget-view+json": {
       "model_id": "b9fadd3dacf247689c77c932fcb3cb0a",
       "version_major": 2,
       "version_minor": 0
      },
      "text/plain": [
       "tokenizer.json:   0%|          | 0.00/466k [00:00<?, ?B/s]"
      ]
     },
     "metadata": {},
     "output_type": "display_data"
    },
    {
     "data": {
      "application/vnd.jupyter.widget-view+json": {
       "model_id": "785d0d7f891d45a38c6e92483579de03",
       "version_major": 2,
       "version_minor": 0
      },
      "text/plain": [
       "special_tokens_map.json:   0%|          | 0.00/239 [00:00<?, ?B/s]"
      ]
     },
     "metadata": {},
     "output_type": "display_data"
    },
    {
     "data": {
      "application/vnd.jupyter.widget-view+json": {
       "model_id": "5c9f83a8c6af4536bbbac347db2e2b92",
       "version_major": 2,
       "version_minor": 0
      },
      "text/plain": [
       "1_Pooling/config.json:   0%|          | 0.00/190 [00:00<?, ?B/s]"
      ]
     },
     "metadata": {},
     "output_type": "display_data"
    }
   ],
   "source": [
    "from sentence_transformers import SentenceTransformer\n",
    "model_name = 'multi-qa-mpnet-base-dot-v1'\n",
    "embedding_model = SentenceTransformer(model_name)"
   ]
  },
  {
   "cell_type": "markdown",
   "id": "85cbbbf0-2226-4bb5-befe-98f5f3161dba",
   "metadata": {},
   "source": [
    "Create the embeddings for the first LLM answer:"
   ]
  },
  {
   "cell_type": "code",
   "execution_count": 6,
   "id": "085a33ed-ac1b-493c-b348-a27ec9bb5a29",
   "metadata": {},
   "outputs": [],
   "source": [
    "answer_llm = df.iloc[0].answer_llm"
   ]
  },
  {
   "cell_type": "markdown",
   "id": "e0a14b3c-b690-48d4-9215-d2c1189607eb",
   "metadata": {},
   "source": [
    "What's the first value of the resulting vector?"
   ]
  },
  {
   "cell_type": "code",
   "execution_count": 7,
   "id": "6a49a913-a2f5-41bb-8135-0c1c824f4c5b",
   "metadata": {},
   "outputs": [
    {
     "data": {
      "text/plain": [
       "np.float32(-0.42244682)"
      ]
     },
     "execution_count": 7,
     "metadata": {},
     "output_type": "execute_result"
    }
   ],
   "source": [
    "embedding_model.encode(answer_llm)[0]"
   ]
  },
  {
   "cell_type": "markdown",
   "id": "b0b3f49f-4a45-49d2-b9b2-e2168ed338ae",
   "metadata": {},
   "source": [
    "### The answer is -0.42"
   ]
  },
  {
   "cell_type": "markdown",
   "id": "93e4fc1c-8b15-4083-8851-ab30b0ac3932",
   "metadata": {},
   "source": [
    "# Q2. Computing the dot product\n",
    "Now for each answer pair, let's create embeddings and compute dot product between them\n",
    "\n",
    "We will put the results (scores) into the evaluations list\n",
    "\n",
    "What's the 75% percentile of the score?"
   ]
  },
  {
   "cell_type": "code",
   "execution_count": 9,
   "id": "de98d431-d284-4da5-a050-59cf562b86a1",
   "metadata": {},
   "outputs": [
    {
     "name": "stderr",
     "output_type": "stream",
     "text": [
      "300it [01:38,  3.05it/s]\n"
     ]
    },
    {
     "data": {
      "text/plain": [
       "[np.float32(17.515991),\n",
       " np.float32(13.4184065),\n",
       " np.float32(25.313257),\n",
       " np.float32(12.147416),\n",
       " np.float32(18.74773),\n",
       " np.float32(33.970394),\n",
       " np.float32(30.251696),\n",
       " np.float32(29.52159),\n",
       " np.float32(35.27221),\n",
       " np.float32(27.751755),\n",
       " np.float32(32.344707),\n",
       " np.float32(31.441845),\n",
       " np.float32(36.38073),\n",
       " np.float32(33.340508),\n",
       " np.float32(30.606163),\n",
       " np.float32(32.503044),\n",
       " np.float32(29.674438),\n",
       " np.float32(24.353466),\n",
       " np.float32(20.132465),\n",
       " np.float32(23.99546),\n",
       " np.float32(30.880272),\n",
       " np.float32(32.692436),\n",
       " np.float32(30.049168),\n",
       " np.float32(16.07816),\n",
       " np.float32(31.796417),\n",
       " np.float32(37.98001),\n",
       " np.float32(20.839039),\n",
       " np.float32(32.61286),\n",
       " np.float32(38.894203),\n",
       " np.float32(34.051826),\n",
       " np.float32(28.26388),\n",
       " np.float32(27.12483),\n",
       " np.float32(23.975267),\n",
       " np.float32(26.34014),\n",
       " np.float32(18.658121),\n",
       " np.float32(25.016405),\n",
       " np.float32(21.101137),\n",
       " np.float32(33.72679),\n",
       " np.float32(29.340351),\n",
       " np.float32(28.654493),\n",
       " np.float32(29.608587),\n",
       " np.float32(30.810726),\n",
       " np.float32(33.331203),\n",
       " np.float32(26.220488),\n",
       " np.float32(26.55008),\n",
       " np.float32(13.148599),\n",
       " np.float32(12.962546),\n",
       " np.float32(12.275609),\n",
       " np.float32(9.974443),\n",
       " np.float32(10.883928),\n",
       " np.float32(29.845064),\n",
       " np.float32(32.361794),\n",
       " np.float32(22.187178),\n",
       " np.float32(30.268929),\n",
       " np.float32(25.091877),\n",
       " np.float32(32.74279),\n",
       " np.float32(28.220995),\n",
       " np.float32(27.274977),\n",
       " np.float32(24.208637),\n",
       " np.float32(22.568903),\n",
       " np.float32(19.767445),\n",
       " np.float32(18.67933),\n",
       " np.float32(20.42231),\n",
       " np.float32(22.051323),\n",
       " np.float32(18.188005),\n",
       " np.float32(28.455887),\n",
       " np.float32(25.9197),\n",
       " np.float32(23.332338),\n",
       " np.float32(22.205938),\n",
       " np.float32(28.296303),\n",
       " np.float32(39.230545),\n",
       " np.float32(36.75851),\n",
       " np.float32(31.913897),\n",
       " np.float32(31.202858),\n",
       " np.float32(36.913048),\n",
       " np.float32(30.514194),\n",
       " np.float32(36.261456),\n",
       " np.float32(27.397541),\n",
       " np.float32(37.792793),\n",
       " np.float32(23.29768),\n",
       " np.float32(34.252586),\n",
       " np.float32(34.55062),\n",
       " np.float32(30.31645),\n",
       " np.float32(35.70352),\n",
       " np.float32(31.012533),\n",
       " np.float32(35.459614),\n",
       " np.float32(35.075752),\n",
       " np.float32(35.429817),\n",
       " np.float32(29.881165),\n",
       " np.float32(30.037113),\n",
       " np.float32(31.247982),\n",
       " np.float32(29.893946),\n",
       " np.float32(28.52552),\n",
       " np.float32(31.754604),\n",
       " np.float32(32.59006),\n",
       " np.float32(39.47602),\n",
       " np.float32(34.973724),\n",
       " np.float32(28.72509),\n",
       " np.float32(30.684107),\n",
       " np.float32(37.264114),\n",
       " np.float32(35.62684),\n",
       " np.float32(33.20292),\n",
       " np.float32(25.320381),\n",
       " np.float32(32.188915),\n",
       " np.float32(22.518663),\n",
       " np.float32(30.81065),\n",
       " np.float32(37.474182),\n",
       " np.float32(27.127544),\n",
       " np.float32(27.558426),\n",
       " np.float32(33.07745),\n",
       " np.float32(25.819042),\n",
       " np.float32(35.04759),\n",
       " np.float32(34.910133),\n",
       " np.float32(35.86293),\n",
       " np.float32(35.66462),\n",
       " np.float32(23.89095),\n",
       " np.float32(26.650803),\n",
       " np.float32(19.036325),\n",
       " np.float32(23.73263),\n",
       " np.float32(36.686497),\n",
       " np.float32(23.632254),\n",
       " np.float32(26.224361),\n",
       " np.float32(28.331976),\n",
       " np.float32(28.205885),\n",
       " np.float32(29.78394),\n",
       " np.float32(27.143461),\n",
       " np.float32(14.999905),\n",
       " np.float32(18.169989),\n",
       " np.float32(18.228643),\n",
       " np.float32(20.363127),\n",
       " np.float32(5.448555),\n",
       " np.float32(5.9324827),\n",
       " np.float32(7.8709755),\n",
       " np.float32(4.547924),\n",
       " np.float32(5.3850875),\n",
       " np.float32(27.713978),\n",
       " np.float32(20.700138),\n",
       " np.float32(27.329466),\n",
       " np.float32(16.532578),\n",
       " np.float32(19.901352),\n",
       " np.float32(31.073856),\n",
       " np.float32(29.637463),\n",
       " np.float32(28.450878),\n",
       " np.float32(24.889107),\n",
       " np.float32(26.597519),\n",
       " np.float32(26.664057),\n",
       " np.float32(33.775314),\n",
       " np.float32(28.765793),\n",
       " np.float32(19.707876),\n",
       " np.float32(17.306507),\n",
       " np.float32(34.35748),\n",
       " np.float32(30.779724),\n",
       " np.float32(30.170498),\n",
       " np.float32(27.35459),\n",
       " np.float32(32.20993),\n",
       " np.float32(26.88024),\n",
       " np.float32(28.167711),\n",
       " np.float32(29.976236),\n",
       " np.float32(28.072685),\n",
       " np.float32(31.957592),\n",
       " np.float32(30.33058),\n",
       " np.float32(29.305622),\n",
       " np.float32(27.50432),\n",
       " np.float32(27.409876),\n",
       " np.float32(26.01246),\n",
       " np.float32(31.341297),\n",
       " np.float32(29.248127),\n",
       " np.float32(34.05439),\n",
       " np.float32(29.529325),\n",
       " np.float32(27.14475),\n",
       " np.float32(26.03489),\n",
       " np.float32(31.496738),\n",
       " np.float32(32.259842),\n",
       " np.float32(21.932497),\n",
       " np.float32(30.88007),\n",
       " np.float32(39.092712),\n",
       " np.float32(32.142113),\n",
       " np.float32(25.345882),\n",
       " np.float32(23.977587),\n",
       " np.float32(27.31409),\n",
       " np.float32(30.877434),\n",
       " np.float32(28.470526),\n",
       " np.float32(28.867756),\n",
       " np.float32(28.173206),\n",
       " np.float32(27.834417),\n",
       " np.float32(33.211494),\n",
       " np.float32(27.782204),\n",
       " np.float32(28.150196),\n",
       " np.float32(27.548819),\n",
       " np.float32(29.624212),\n",
       " np.float32(28.466618),\n",
       " np.float32(27.704876),\n",
       " np.float32(27.517038),\n",
       " np.float32(26.01735),\n",
       " np.float32(16.81593),\n",
       " np.float32(29.18188),\n",
       " np.float32(30.130182),\n",
       " np.float32(27.391754),\n",
       " np.float32(28.571142),\n",
       " np.float32(21.442028),\n",
       " np.float32(29.071905),\n",
       " np.float32(27.174828),\n",
       " np.float32(26.663853),\n",
       " np.float32(26.153397),\n",
       " np.float32(29.611279),\n",
       " np.float32(27.712757),\n",
       " np.float32(17.301193),\n",
       " np.float32(25.073748),\n",
       " np.float32(26.105173),\n",
       " np.float32(15.056326),\n",
       " np.float32(32.22445),\n",
       " np.float32(26.998762),\n",
       " np.float32(24.001846),\n",
       " np.float32(30.299423),\n",
       " np.float32(31.25195),\n",
       " np.float32(24.931458),\n",
       " np.float32(27.13626),\n",
       " np.float32(20.048168),\n",
       " np.float32(22.204578),\n",
       " np.float32(18.39867),\n",
       " np.float32(23.471605),\n",
       " np.float32(23.65659),\n",
       " np.float32(20.096876),\n",
       " np.float32(27.785183),\n",
       " np.float32(23.721886),\n",
       " np.float32(29.476562),\n",
       " np.float32(31.923645),\n",
       " np.float32(27.786556),\n",
       " np.float32(25.282494),\n",
       " np.float32(21.090364),\n",
       " np.float32(34.24197),\n",
       " np.float32(34.566097),\n",
       " np.float32(35.93258),\n",
       " np.float32(22.799603),\n",
       " np.float32(33.24145),\n",
       " np.float32(19.981962),\n",
       " np.float32(22.636581),\n",
       " np.float32(24.131184),\n",
       " np.float32(23.120184),\n",
       " np.float32(11.905022),\n",
       " np.float32(32.21835),\n",
       " np.float32(29.581184),\n",
       " np.float32(22.276999),\n",
       " np.float32(26.254913),\n",
       " np.float32(18.279),\n",
       " np.float32(33.62314),\n",
       " np.float32(29.776497),\n",
       " np.float32(30.866936),\n",
       " np.float32(26.539074),\n",
       " np.float32(26.438847),\n",
       " np.float32(23.820015),\n",
       " np.float32(27.36068),\n",
       " np.float32(29.637074),\n",
       " np.float32(31.316288),\n",
       " np.float32(20.207516),\n",
       " np.float32(34.520557),\n",
       " np.float32(33.354908),\n",
       " np.float32(28.474087),\n",
       " np.float32(27.6943),\n",
       " np.float32(21.486216),\n",
       " np.float32(29.003836),\n",
       " np.float32(26.534302),\n",
       " np.float32(28.948309),\n",
       " np.float32(27.005241),\n",
       " np.float32(24.340912),\n",
       " np.float32(21.608494),\n",
       " np.float32(33.209816),\n",
       " np.float32(31.647541),\n",
       " np.float32(30.631367),\n",
       " np.float32(25.525127),\n",
       " np.float32(31.805729),\n",
       " np.float32(34.976173),\n",
       " np.float32(29.750317),\n",
       " np.float32(28.022007),\n",
       " np.float32(24.98228),\n",
       " np.float32(34.441288),\n",
       " np.float32(33.405495),\n",
       " np.float32(30.95248),\n",
       " np.float32(25.195038),\n",
       " np.float32(29.613972),\n",
       " np.float32(31.487968),\n",
       " np.float32(29.713955),\n",
       " np.float32(28.341745),\n",
       " np.float32(28.797325),\n",
       " np.float32(28.471722),\n",
       " np.float32(38.85508),\n",
       " np.float32(35.33559),\n",
       " np.float32(13.904591),\n",
       " np.float32(38.24657),\n",
       " np.float32(30.029453),\n",
       " np.float32(33.363075),\n",
       " np.float32(25.712196),\n",
       " np.float32(32.535797),\n",
       " np.float32(31.411255),\n",
       " np.float32(30.52426),\n",
       " np.float32(34.00178),\n",
       " np.float32(33.690865),\n",
       " np.float32(34.491535),\n",
       " np.float32(27.538353),\n",
       " np.float32(18.4141)]"
      ]
     },
     "execution_count": 9,
     "metadata": {},
     "output_type": "execute_result"
    }
   ],
   "source": [
    "# Create embeddings for each pair\n",
    "evaluations = [] # initialize empty evaluations list\n",
    "\n",
    "for index, row in tqdm(df.iterrows()):\n",
    "    evaluations.append(np.dot(embedding_model.encode(row.answer_llm),embedding_model.encode(row.answer_orig)))\n",
    "\n",
    "evaluations"
   ]
  },
  {
   "cell_type": "code",
   "execution_count": 10,
   "id": "712ff613-639c-42ca-aebc-e78366df95d4",
   "metadata": {},
   "outputs": [
    {
     "data": {
      "text/plain": [
       "np.float32(31.674307)"
      ]
     },
     "execution_count": 10,
     "metadata": {},
     "output_type": "execute_result"
    }
   ],
   "source": [
    "np.percentile(evaluations, 75)"
   ]
  },
  {
   "cell_type": "markdown",
   "id": "7642744b-3a78-41be-aa81-6d36b50bf678",
   "metadata": {},
   "source": [
    "### The answer is 31.67"
   ]
  },
  {
   "cell_type": "markdown",
   "id": "5e8da754-953e-4b79-85a0-041030c2fd9f",
   "metadata": {},
   "source": [
    "# From Q2, we can see that the results are not within the [0, 1] range. It's because the vectors coming from this model are not normalized.\n",
    "\n",
    "So we need to normalize them.\n",
    "\n",
    "To do it, we\n",
    "\n",
    "Compute the norm of a vector\n",
    "Divide each element by this norm\n",
    "So, for vector v, it'll be v / ||v||\n",
    "\n",
    "In numpy, this is how you do it:\n",
    "\n",
    "norm = np.sqrt((v * v).sum())\n",
    "\n",
    "v_norm = v / norm\n",
    "\n",
    "Let's put it into a function and then compute dot product between normalized vectors. This will give us cosine similarity\n",
    "\n",
    "What's the 75% cosine in the scores?"
   ]
  },
  {
   "cell_type": "code",
   "execution_count": 11,
   "id": "94027ccf-a194-498d-ad5a-fa455b29bd1e",
   "metadata": {},
   "outputs": [
    {
     "name": "stderr",
     "output_type": "stream",
     "text": [
      "300it [01:22,  3.64it/s]\n"
     ]
    },
    {
     "data": {
      "text/plain": [
       "[np.float32(0.5067541),\n",
       " np.float32(0.38854894),\n",
       " np.float32(0.7185991),\n",
       " np.float32(0.33726627),\n",
       " np.float32(0.5217923),\n",
       " np.float32(0.83053184),\n",
       " np.float32(0.7462832),\n",
       " np.float32(0.69440633),\n",
       " np.float32(0.8468865),\n",
       " np.float32(0.65590715),\n",
       " np.float32(0.77795565),\n",
       " np.float32(0.78356636),\n",
       " np.float32(0.9046881),\n",
       " np.float32(0.8063029),\n",
       " np.float32(0.7275961),\n",
       " np.float32(0.7751893),\n",
       " np.float32(0.7151661),\n",
       " np.float32(0.58905566),\n",
       " np.float32(0.53322935),\n",
       " np.float32(0.5857588),\n",
       " np.float32(0.812327),\n",
       " np.float32(0.83714414),\n",
       " np.float32(0.7661154),\n",
       " np.float32(0.4333397),\n",
       " np.float32(0.81558573),\n",
       " np.float32(0.92667866),\n",
       " np.float32(0.55261576),\n",
       " np.float32(0.7622106),\n",
       " np.float32(0.9452982),\n",
       " np.float32(0.847837),\n",
       " np.float32(0.7192839),\n",
       " np.float32(0.6864791),\n",
       " np.float32(0.6100941),\n",
       " np.float32(0.6491078),\n",
       " np.float32(0.48555008),\n",
       " np.float32(0.6549568),\n",
       " np.float32(0.52971894),\n",
       " np.float32(0.84890294),\n",
       " np.float32(0.7395624),\n",
       " np.float32(0.76096797),\n",
       " np.float32(0.70153177),\n",
       " np.float32(0.7140963),\n",
       " np.float32(0.7781699),\n",
       " np.float32(0.62021077),\n",
       " np.float32(0.62210214),\n",
       " np.float32(0.3347296),\n",
       " np.float32(0.3324926),\n",
       " np.float32(0.31343076),\n",
       " np.float32(0.25845355),\n",
       " np.float32(0.27644616),\n",
       " np.float32(0.77109647),\n",
       " np.float32(0.8920101),\n",
       " np.float32(0.5712718),\n",
       " np.float32(0.7779895),\n",
       " np.float32(0.7033879),\n",
       " np.float32(0.8988764),\n",
       " np.float32(0.782266),\n",
       " np.float32(0.6976127),\n",
       " np.float32(0.63187355),\n",
       " np.float32(0.582977),\n",
       " np.float32(0.5963576),\n",
       " np.float32(0.5221752),\n",
       " np.float32(0.5993197),\n",
       " np.float32(0.65132016),\n",
       " np.float32(0.5313158),\n",
       " np.float32(0.76160586),\n",
       " np.float32(0.66829455),\n",
       " np.float32(0.6511332),\n",
       " np.float32(0.6623905),\n",
       " np.float32(0.75467545),\n",
       " np.float32(0.89955693),\n",
       " np.float32(0.8724594),\n",
       " np.float32(0.7539441),\n",
       " np.float32(0.7211681),\n",
       " np.float32(0.85313123),\n",
       " np.float32(0.74570787),\n",
       " np.float32(0.85769904),\n",
       " np.float32(0.66253823),\n",
       " np.float32(0.91524327),\n",
       " np.float32(0.55959284),\n",
       " np.float32(0.8276352),\n",
       " np.float32(0.84651566),\n",
       " np.float32(0.7423034),\n",
       " np.float32(0.87158227),\n",
       " np.float32(0.75295144),\n",
       " np.float32(0.80186504),\n",
       " np.float32(0.8231071),\n",
       " np.float32(0.8007543),\n",
       " np.float32(0.6804125),\n",
       " np.float32(0.69517183),\n",
       " np.float32(0.8961543),\n",
       " np.float32(0.8371486),\n",
       " np.float32(0.8057662),\n",
       " np.float32(0.92360383),\n",
       " np.float32(0.91438675),\n",
       " np.float32(0.90001935),\n",
       " np.float32(0.8121901),\n",
       " np.float32(0.6795298),\n",
       " np.float32(0.6867199),\n",
       " np.float32(0.8579356),\n",
       " np.float32(0.8743393),\n",
       " np.float32(0.7897506),\n",
       " np.float32(0.60586166),\n",
       " np.float32(0.7653111),\n",
       " np.float32(0.61955917),\n",
       " np.float32(0.73717403),\n",
       " np.float32(0.8384348),\n",
       " np.float32(0.6108351),\n",
       " np.float32(0.6532672),\n",
       " np.float32(0.7258445),\n",
       " np.float32(0.6543803),\n",
       " np.float32(0.9243054),\n",
       " np.float32(0.93371475),\n",
       " np.float32(0.9587959),\n",
       " np.float32(0.9345274),\n",
       " np.float32(0.6309587),\n",
       " np.float32(0.72350204),\n",
       " np.float32(0.48164383),\n",
       " np.float32(0.6267581),\n",
       " np.float32(0.918337),\n",
       " np.float32(0.6905618),\n",
       " np.float32(0.73192525),\n",
       " np.float32(0.7669848),\n",
       " np.float32(0.7750457),\n",
       " np.float32(0.8219243),\n",
       " np.float32(0.7336817),\n",
       " np.float32(0.36580536),\n",
       " np.float32(0.47298214),\n",
       " np.float32(0.5297902),\n",
       " np.float32(0.52782977),\n",
       " np.float32(0.15033364),\n",
       " np.float32(0.16259551),\n",
       " np.float32(0.22896063),\n",
       " np.float32(0.12535673),\n",
       " np.float32(0.14907654),\n",
       " np.float32(0.86082286),\n",
       " np.float32(0.6495168),\n",
       " np.float32(0.8210608),\n",
       " np.float32(0.49092057),\n",
       " np.float32(0.5366715),\n",
       " np.float32(0.8139323),\n",
       " np.float32(0.83326226),\n",
       " np.float32(0.7578252),\n",
       " np.float32(0.69442046),\n",
       " np.float32(0.75459063),\n",
       " np.float32(0.6866019),\n",
       " np.float32(0.7933617),\n",
       " np.float32(0.6827461),\n",
       " np.float32(0.4847181),\n",
       " np.float32(0.4068992),\n",
       " np.float32(0.9168882),\n",
       " np.float32(0.81090516),\n",
       " np.float32(0.75766504),\n",
       " np.float32(0.69021297),\n",
       " np.float32(0.8495093),\n",
       " np.float32(0.7885811),\n",
       " np.float32(0.82313603),\n",
       " np.float32(0.86387753),\n",
       " np.float32(0.80344474),\n",
       " np.float32(0.9195234),\n",
       " np.float32(0.91087186),\n",
       " np.float32(0.87111634),\n",
       " np.float32(0.7844465),\n",
       " np.float32(0.8046905),\n",
       " np.float32(0.75557935),\n",
       " np.float32(0.81360483),\n",
       " np.float32(0.7308976),\n",
       " np.float32(0.84138536),\n",
       " np.float32(0.7769918),\n",
       " np.float32(0.677806),\n",
       " np.float32(0.766217),\n",
       " np.float32(0.7935501),\n",
       " np.float32(0.8484156),\n",
       " np.float32(0.60824734),\n",
       " np.float32(0.82088995),\n",
       " np.float32(0.906824),\n",
       " np.float32(0.8077606),\n",
       " np.float32(0.65071154),\n",
       " np.float32(0.60423255),\n",
       " np.float32(0.7019346),\n",
       " np.float32(0.80505145),\n",
       " np.float32(0.7374921),\n",
       " np.float32(0.75320005),\n",
       " np.float32(0.7283075),\n",
       " np.float32(0.6678441),\n",
       " np.float32(0.869707),\n",
       " np.float32(0.7675072),\n",
       " np.float32(0.755601),\n",
       " np.float32(0.7391144),\n",
       " np.float32(0.829904),\n",
       " np.float32(0.9263624),\n",
       " np.float32(0.8851106),\n",
       " np.float32(0.8814404),\n",
       " np.float32(0.82793075),\n",
       " np.float32(0.54172134),\n",
       " np.float32(0.79768324),\n",
       " np.float32(0.8260337),\n",
       " np.float32(0.7654162),\n",
       " np.float32(0.7659825),\n",
       " np.float32(0.567546),\n",
       " np.float32(0.7969286),\n",
       " np.float32(0.7953676),\n",
       " np.float32(0.8003384),\n",
       " np.float32(0.7271832),\n",
       " np.float32(0.83991635),\n",
       " np.float32(0.8905324),\n",
       " np.float32(0.5133374),\n",
       " np.float32(0.8032876),\n",
       " np.float32(0.8810313),\n",
       " np.float32(0.46623534),\n",
       " np.float32(0.9119289),\n",
       " np.float32(0.74650764),\n",
       " np.float32(0.6021069),\n",
       " np.float32(0.8736124),\n",
       " np.float32(0.83593166),\n",
       " np.float32(0.7271825),\n",
       " np.float32(0.80835444),\n",
       " np.float32(0.54849803),\n",
       " np.float32(0.63815373),\n",
       " np.float32(0.53468204),\n",
       " np.float32(0.73068774),\n",
       " np.float32(0.7561727),\n",
       " np.float32(0.5733434),\n",
       " np.float32(0.8801694),\n",
       " np.float32(0.7715906),\n",
       " np.float32(0.86457),\n",
       " np.float32(0.9356906),\n",
       " np.float32(0.813422),\n",
       " np.float32(0.8004229),\n",
       " np.float32(0.62869877),\n",
       " np.float32(0.87812483),\n",
       " np.float32(0.8817501),\n",
       " np.float32(0.91531897),\n",
       " np.float32(0.60668933),\n",
       " np.float32(0.8512664),\n",
       " np.float32(0.6370441),\n",
       " np.float32(0.7722392),\n",
       " np.float32(0.7832998),\n",
       " np.float32(0.7464658),\n",
       " np.float32(0.36829698),\n",
       " np.float32(0.90070516),\n",
       " np.float32(0.81652904),\n",
       " np.float32(0.5891098),\n",
       " np.float32(0.7164584),\n",
       " np.float32(0.54336673),\n",
       " np.float32(0.90839314),\n",
       " np.float32(0.78862184),\n",
       " np.float32(0.8092998),\n",
       " np.float32(0.7205369),\n",
       " np.float32(0.7692303),\n",
       " np.float32(0.64836997),\n",
       " np.float32(0.6844919),\n",
       " np.float32(0.8168502),\n",
       " np.float32(0.816646),\n",
       " np.float32(0.5517651),\n",
       " np.float32(0.8816924),\n",
       " np.float32(0.86099625),\n",
       " np.float32(0.72309387),\n",
       " np.float32(0.64812094),\n",
       " np.float32(0.5044565),\n",
       " np.float32(0.8262412),\n",
       " np.float32(0.7752441),\n",
       " np.float32(0.8128694),\n",
       " np.float32(0.7482347),\n",
       " np.float32(0.7499838),\n",
       " np.float32(0.5805148),\n",
       " np.float32(0.84638786),\n",
       " np.float32(0.790903),\n",
       " np.float32(0.7542488),\n",
       " np.float32(0.67866224),\n",
       " np.float32(0.874437),\n",
       " np.float32(0.9054308),\n",
       " np.float32(0.80812323),\n",
       " np.float32(0.7769107),\n",
       " np.float32(0.6397546),\n",
       " np.float32(0.86897886),\n",
       " np.float32(0.88007724),\n",
       " np.float32(0.8211624),\n",
       " np.float32(0.6735443),\n",
       " np.float32(0.72401196),\n",
       " np.float32(0.90389776),\n",
       " np.float32(0.86243486),\n",
       " np.float32(0.80333984),\n",
       " np.float32(0.82275903),\n",
       " np.float32(0.80540395),\n",
       " np.float32(0.95774007),\n",
       " np.float32(0.8829243),\n",
       " np.float32(0.341563),\n",
       " np.float32(0.9483267),\n",
       " np.float32(0.7547158),\n",
       " np.float32(0.92996323),\n",
       " np.float32(0.6995522),\n",
       " np.float32(0.8658833),\n",
       " np.float32(0.89137506),\n",
       " np.float32(0.80318993),\n",
       " np.float32(0.9141749),\n",
       " np.float32(0.90218955),\n",
       " np.float32(0.90473366),\n",
       " np.float32(0.7267815),\n",
       " np.float32(0.49389827)]"
      ]
     },
     "execution_count": 11,
     "metadata": {},
     "output_type": "execute_result"
    }
   ],
   "source": [
    "# First define a function for normalization\n",
    "\n",
    "def normalize(v):\n",
    "    norm = np.sqrt((v * v).sum())\n",
    "    v_norm = v / norm\n",
    "    return v_norm\n",
    "\n",
    "# Now repeat the comutation from Q2, but with normalized vectors\n",
    "evaluations_normalized = [] # initialize empty evaluations list\n",
    "\n",
    "for index, row in tqdm(df.iterrows()):\n",
    "    evaluations_normalized.append(np.dot(normalize(embedding_model.encode(row.answer_llm)),normalize(embedding_model.encode(row.answer_orig))))\n",
    "\n",
    "evaluations_normalized"
   ]
  },
  {
   "cell_type": "code",
   "execution_count": 12,
   "id": "892b2a1f-3902-47b4-bd9d-5d02298a0306",
   "metadata": {},
   "outputs": [
    {
     "data": {
      "text/plain": [
       "np.float32(0.8362348)"
      ]
     },
     "execution_count": 12,
     "metadata": {},
     "output_type": "execute_result"
    }
   ],
   "source": [
    "np.percentile(evaluations_normalized, 75)"
   ]
  },
  {
   "cell_type": "markdown",
   "id": "02ad649f-c99c-4037-be35-a10e5e495c36",
   "metadata": {},
   "source": [
    "### The answer is 0.83"
   ]
  },
  {
   "cell_type": "markdown",
   "id": "2162d1b2-5a81-436e-92af-b7d1e9360ec9",
   "metadata": {},
   "source": [
    "# Q4. Rouge\n",
    "Now we will explore an alternative metric - the ROUGE score.\n",
    "\n",
    "This is a set of metrics that compares two answers based on the overlap of n-grams, word sequences, and word pairs.\n",
    "\n",
    "It can give a more nuanced view of text similarity than just cosine similarity alone.\n",
    "\n",
    "We don't need to implement it ourselves, there's a python package for it:\n",
    "\n",
    "pip install rouge\n",
    "(The latest version at the moment of writing is 1.0.1)\n",
    "\n",
    "Let's compute the ROUGE score between the answers at the index 10 of our dataframe (doc_id=5170565b)\n",
    "\n",
    "from rouge import Rouge\n",
    "\n",
    "rouge_scorer = Rouge()\n",
    "\n",
    "scores = rouge_scorer.get_scores(r['answer_llm'], r['answer_orig'])[0]\n",
    "\n",
    "There are three scores: rouge-1, rouge-2 and rouge-l, and precision, recall and F1 score for each.\n",
    "\n",
    "rouge-1 - the overlap of unigrams,\n",
    "rouge-2 - bigrams,\n",
    "rouge-l - the longest common subsequence\n",
    "\n",
    "What's the F score for rouge-1?"
   ]
  },
  {
   "cell_type": "code",
   "execution_count": 15,
   "id": "667aeadc-a257-434c-969c-686002e63aa4",
   "metadata": {},
   "outputs": [
    {
     "data": {
      "text/plain": [
       "{'rouge-1': {'r': 0.45454545454545453,\n",
       "  'p': 0.45454545454545453,\n",
       "  'f': 0.45454544954545456},\n",
       " 'rouge-2': {'r': 0.21621621621621623,\n",
       "  'p': 0.21621621621621623,\n",
       "  'f': 0.21621621121621637},\n",
       " 'rouge-l': {'r': 0.3939393939393939,\n",
       "  'p': 0.3939393939393939,\n",
       "  'f': 0.393939388939394}}"
      ]
     },
     "execution_count": 15,
     "metadata": {},
     "output_type": "execute_result"
    }
   ],
   "source": [
    "from rouge import Rouge\n",
    "rouge_scorer = Rouge()\n",
    "\n",
    "# Assign the 10th record to r\n",
    "r = df.iloc[10].to_dict()\n",
    "\n",
    "scores = rouge_scorer.get_scores(r['answer_llm'], r['answer_orig'])[0]\n",
    "scores"
   ]
  },
  {
   "cell_type": "markdown",
   "id": "1127d791-3da8-442d-a09a-8eff90315cda",
   "metadata": {},
   "source": [
    "### The answer is 0.45"
   ]
  },
  {
   "cell_type": "markdown",
   "id": "0c8519b0-9d9d-44eb-b570-c0c9f40964f5",
   "metadata": {},
   "source": [
    "# Q5. Average rouge score\n",
    "Let's compute the average F-score between rouge-1, rouge-2 and rouge-l for the same record from Q4"
   ]
  },
  {
   "cell_type": "code",
   "execution_count": 16,
   "id": "1cbf122a-e741-4da6-b98d-9c16af370178",
   "metadata": {},
   "outputs": [
    {
     "data": {
      "text/plain": [
       "np.float64(0.35490034990035496)"
      ]
     },
     "execution_count": 16,
     "metadata": {},
     "output_type": "execute_result"
    }
   ],
   "source": [
    "np.mean([scores['rouge-1']['f'],scores['rouge-2']['f'],scores['rouge-l']['f']])"
   ]
  },
  {
   "cell_type": "markdown",
   "id": "e76c99a6-b012-4b83-ab0e-e620812a6fee",
   "metadata": {},
   "source": [
    "### The answer is 0.35"
   ]
  },
  {
   "cell_type": "markdown",
   "id": "d104153e-26f4-417a-b04f-8c24a679ad6f",
   "metadata": {},
   "source": [
    "# Q6. Average rouge score for all the data points\n",
    "Now let's compute the score for all the records and create a dataframe from them.\n",
    "\n",
    "What's the average rouge_2 across all the records?"
   ]
  },
  {
   "cell_type": "code",
   "execution_count": 17,
   "id": "073c9117-0065-4230-8a2d-b19caff99a47",
   "metadata": {},
   "outputs": [
    {
     "data": {
      "text/html": [
       "<div>\n",
       "<style scoped>\n",
       "    .dataframe tbody tr th:only-of-type {\n",
       "        vertical-align: middle;\n",
       "    }\n",
       "\n",
       "    .dataframe tbody tr th {\n",
       "        vertical-align: top;\n",
       "    }\n",
       "\n",
       "    .dataframe thead th {\n",
       "        text-align: right;\n",
       "    }\n",
       "</style>\n",
       "<table border=\"1\" class=\"dataframe\">\n",
       "  <thead>\n",
       "    <tr style=\"text-align: right;\">\n",
       "      <th></th>\n",
       "      <th>r</th>\n",
       "      <th>p</th>\n",
       "      <th>f</th>\n",
       "    </tr>\n",
       "  </thead>\n",
       "  <tbody>\n",
       "    <tr>\n",
       "      <th>0</th>\n",
       "      <td>0.017544</td>\n",
       "      <td>0.071429</td>\n",
       "      <td>0.028169</td>\n",
       "    </tr>\n",
       "    <tr>\n",
       "      <th>1</th>\n",
       "      <td>0.035088</td>\n",
       "      <td>0.133333</td>\n",
       "      <td>0.055556</td>\n",
       "    </tr>\n",
       "    <tr>\n",
       "      <th>2</th>\n",
       "      <td>0.140351</td>\n",
       "      <td>0.242424</td>\n",
       "      <td>0.177778</td>\n",
       "    </tr>\n",
       "    <tr>\n",
       "      <th>3</th>\n",
       "      <td>0.035088</td>\n",
       "      <td>0.071429</td>\n",
       "      <td>0.047059</td>\n",
       "    </tr>\n",
       "    <tr>\n",
       "      <th>4</th>\n",
       "      <td>0.070175</td>\n",
       "      <td>0.022346</td>\n",
       "      <td>0.033898</td>\n",
       "    </tr>\n",
       "    <tr>\n",
       "      <th>...</th>\n",
       "      <td>...</td>\n",
       "      <td>...</td>\n",
       "      <td>...</td>\n",
       "    </tr>\n",
       "    <tr>\n",
       "      <th>295</th>\n",
       "      <td>0.559322</td>\n",
       "      <td>0.523810</td>\n",
       "      <td>0.540984</td>\n",
       "    </tr>\n",
       "    <tr>\n",
       "      <th>296</th>\n",
       "      <td>0.542373</td>\n",
       "      <td>0.400000</td>\n",
       "      <td>0.460432</td>\n",
       "    </tr>\n",
       "    <tr>\n",
       "      <th>297</th>\n",
       "      <td>0.593220</td>\n",
       "      <td>0.538462</td>\n",
       "      <td>0.564516</td>\n",
       "    </tr>\n",
       "    <tr>\n",
       "      <th>298</th>\n",
       "      <td>0.135593</td>\n",
       "      <td>0.129032</td>\n",
       "      <td>0.132231</td>\n",
       "    </tr>\n",
       "    <tr>\n",
       "      <th>299</th>\n",
       "      <td>0.016949</td>\n",
       "      <td>0.038462</td>\n",
       "      <td>0.023529</td>\n",
       "    </tr>\n",
       "  </tbody>\n",
       "</table>\n",
       "<p>300 rows × 3 columns</p>\n",
       "</div>"
      ],
      "text/plain": [
       "            r         p         f\n",
       "0    0.017544  0.071429  0.028169\n",
       "1    0.035088  0.133333  0.055556\n",
       "2    0.140351  0.242424  0.177778\n",
       "3    0.035088  0.071429  0.047059\n",
       "4    0.070175  0.022346  0.033898\n",
       "..        ...       ...       ...\n",
       "295  0.559322  0.523810  0.540984\n",
       "296  0.542373  0.400000  0.460432\n",
       "297  0.593220  0.538462  0.564516\n",
       "298  0.135593  0.129032  0.132231\n",
       "299  0.016949  0.038462  0.023529\n",
       "\n",
       "[300 rows x 3 columns]"
      ]
     },
     "execution_count": 17,
     "metadata": {},
     "output_type": "execute_result"
    }
   ],
   "source": [
    "rouge_scores=[]\n",
    "\n",
    "for index,row in df.iterrows():\n",
    "    scores = rouge_scorer.get_scores(row['answer_llm'], row['answer_orig'])[0]\n",
    "    rouge_scores.append(scores['rouge-2'])\n",
    "\n",
    "df_rouge_scores = pd.DataFrame(rouge_scores)\n",
    "df_rouge_scores"
   ]
  },
  {
   "cell_type": "code",
   "execution_count": 18,
   "id": "3de3e41a-91e4-4b78-84bf-6804be46e43a",
   "metadata": {},
   "outputs": [
    {
     "data": {
      "text/plain": [
       "np.float64(0.20696501983423318)"
      ]
     },
     "execution_count": 18,
     "metadata": {},
     "output_type": "execute_result"
    }
   ],
   "source": [
    "np.mean(df_rouge_scores['f'])"
   ]
  },
  {
   "cell_type": "markdown",
   "id": "9c5efb26-41ec-4f4a-a99f-569d35827c2b",
   "metadata": {},
   "source": [
    "### The answer is 0.20"
   ]
  },
  {
   "cell_type": "code",
   "execution_count": null,
   "id": "3efd04fb-3bb4-45bd-8730-c556d67d5419",
   "metadata": {},
   "outputs": [],
   "source": []
  }
 ],
 "metadata": {
  "kernelspec": {
   "display_name": "Python 3 (ipykernel)",
   "language": "python",
   "name": "python3"
  },
  "language_info": {
   "codemirror_mode": {
    "name": "ipython",
    "version": 3
   },
   "file_extension": ".py",
   "mimetype": "text/x-python",
   "name": "python",
   "nbconvert_exporter": "python",
   "pygments_lexer": "ipython3",
   "version": "3.10.13"
  }
 },
 "nbformat": 4,
 "nbformat_minor": 5
}
