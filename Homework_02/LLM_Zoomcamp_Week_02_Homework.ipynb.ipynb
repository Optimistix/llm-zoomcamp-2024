{
 "cells": [
  {
   "cell_type": "markdown",
   "id": "7327118c-c46a-4da8-b958-18745af9d952",
   "metadata": {},
   "source": [
    "# Q1. Running Ollama with Docker\n",
    "What's the version of ollama client?\n",
    "\n",
    "To find out, enter the container and execute ollama with the -v flag."
   ]
  },
  {
   "cell_type": "code",
   "execution_count": 1,
   "id": "2481c9d4-1f18-4aa2-9e94-66185d9fc12a",
   "metadata": {},
   "outputs": [
    {
     "name": "stdout",
     "output_type": "stream",
     "text": [
      "ollama version is 0.1.48\n"
     ]
    }
   ],
   "source": [
    "!ollama -v"
   ]
  },
  {
   "cell_type": "markdown",
   "id": "21e7c6dd-c8c2-4768-a8d8-79d431e2ee69",
   "metadata": {},
   "source": [
    "# Q2. Downloading an LLM\n",
    "We're interested in the metadata about this model. You can find it in models/manifests/registry.ollama.ai/library\n",
    "\n",
    "What's the content of the file related to gemma?"
   ]
  },
  {
   "cell_type": "code",
   "execution_count": null,
   "id": "18d6b05b-885c-40ae-b029-aa05aa9aba6e",
   "metadata": {},
   "outputs": [],
   "source": []
  },
  {
   "cell_type": "markdown",
   "id": "dd5c8359-c131-4e3c-a682-5fef5b6de19f",
   "metadata": {},
   "source": [
    "# Q3. Running the LLM\n",
    "Test the following prompt: \"10 * 10\". What's the answer?"
   ]
  },
  {
   "cell_type": "raw",
   "id": "0fd066db-cada-4fc8-b5c2-9299da0f21ef",
   "metadata": {},
   "source": [
    "(llm_zoomcamp) optimistix@Rileens-MacBook-Pro Week_02 % ollama run gemma:2b \n",
    ">>> 10 * 10\n",
    "Sure, here's the answer to your question:\n",
    "\n",
    "10 * 10\n",
    "\n",
    ">>> what is 10*10\n",
    "The answer is 100. 10 * 10"
   ]
  },
  {
   "cell_type": "markdown",
   "id": "68ff3d67-4003-41bc-b99e-ea652fdc5cfa",
   "metadata": {},
   "source": [
    "# Q4. Donwloading the weights\n"
   ]
  },
  {
   "cell_type": "code",
   "execution_count": null,
   "id": "1bb9d304-f6c9-44e6-9a4a-db98c177f3e8",
   "metadata": {},
   "outputs": [],
   "source": []
  },
  {
   "cell_type": "markdown",
   "id": "0eabe14a-245a-4e61-98ea-dca97193a3a9",
   "metadata": {},
   "source": [
    "# Q5. Adding the weights"
   ]
  },
  {
   "cell_type": "code",
   "execution_count": null,
   "id": "459bda0e-666b-48f9-927d-1de32f7795eb",
   "metadata": {},
   "outputs": [],
   "source": []
  },
  {
   "cell_type": "markdown",
   "id": "354d4a2d-0672-48c9-ad15-4c795ab6419b",
   "metadata": {},
   "source": [
    "# Q6. Serving it\n"
   ]
  },
  {
   "cell_type": "code",
   "execution_count": null,
   "id": "3f298bfd-3aed-437e-891c-105a445a983d",
   "metadata": {},
   "outputs": [],
   "source": []
  }
 ],
 "metadata": {
  "kernelspec": {
   "display_name": "Python 3 (ipykernel)",
   "language": "python",
   "name": "python3"
  },
  "language_info": {
   "codemirror_mode": {
    "name": "ipython",
    "version": 3
   },
   "file_extension": ".py",
   "mimetype": "text/x-python",
   "name": "python",
   "nbconvert_exporter": "python",
   "pygments_lexer": "ipython3",
   "version": "3.10.8"
  }
 },
 "nbformat": 4,
 "nbformat_minor": 5
}
